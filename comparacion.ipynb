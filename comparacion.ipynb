{
 "cells": [
  {
   "cell_type": "code",
   "execution_count": 1,
   "metadata": {},
   "outputs": [],
   "source": [
    "import pandas as pd"
   ]
  },
  {
   "cell_type": "code",
   "execution_count": 2,
   "metadata": {},
   "outputs": [],
   "source": [
    "def evaluar_recomendaciones(ruta_recomendaciones, ruta_playlist, ruta_test_data, ruta_train_data):\n",
    "    # Leer recomendaciones desde archivo JSON\n",
    "    recomendaciones = pd.read_json(ruta_recomendaciones).T\n",
    "    recomendaciones['pid'] = recomendaciones.index \n",
    "\n",
    "    # Leer y agrupar los datos del playlist\n",
    "    playlist = pd.read_csv(ruta_playlist)\n",
    "    playlist = playlist.groupby('pid').agg(list)\n",
    "\n",
    "    # Leer datos de entrenamiento y prueba\n",
    "    test_data = pd.read_csv(ruta_test_data)\n",
    "    train_data = pd.read_csv(ruta_train_data)\n",
    "\n",
    "    # Agrupar los datos por 'pid'\n",
    "    playlist_train = train_data.groupby('pid').agg(list)\n",
    "    playlist_test = test_data.groupby('pid').agg(list)\n",
    "\n",
    "    # Fusionar las recomendaciones con los datos de prueba\n",
    "    merged = pd.merge(recomendaciones, playlist_test, on='pid')\n",
    "    merged.drop(columns=['pos'], inplace=True)\n",
    "\n",
    "    # Calcular las recomendaciones acertadas\n",
    "    merged['recomendaciones_acertadas@10'] = merged.apply(lambda x: [i for i in x['top_10'] if i in x['tid']], axis=1)\n",
    "    merged['recomendaciones_acertadas@20'] = merged.apply(lambda x: [i for i in x['top_20'] if i in x['tid']], axis=1)\n",
    "    \n",
    "    return merged\n",
    "\n",
    "ruta_playlist = \"data\\\\playlist.csv\"\n",
    "ruta_test_data = \"data\\\\test_data.csv\"\n",
    "ruta_train_data = \"data\\\\train_data.csv\""
   ]
  },
  {
   "cell_type": "code",
   "execution_count": 3,
   "metadata": {},
   "outputs": [],
   "source": [
    "r_models = {'ann' : 'data\\\\recommendations_als.json','lsh' : 'data\\\\recommendations_lsh.json','als' : 'data\\\\recommendations_lsh.json', 'random' : 'data\\\\recommendations_random.json'}\n",
    "df_recomendaciones = {}\n",
    "for modelos in r_models.keys():\n",
    "    tops = evaluar_recomendaciones(r_models[modelos], ruta_playlist, ruta_test_data, ruta_train_data)\n",
    "    df_recomendaciones[modelos] = tops"
   ]
  },
  {
   "cell_type": "code",
   "execution_count": 4,
   "metadata": {},
   "outputs": [
    {
     "data": {
      "text/html": [
       "<div>\n",
       "<style scoped>\n",
       "    .dataframe tbody tr th:only-of-type {\n",
       "        vertical-align: middle;\n",
       "    }\n",
       "\n",
       "    .dataframe tbody tr th {\n",
       "        vertical-align: top;\n",
       "    }\n",
       "\n",
       "    .dataframe thead th {\n",
       "        text-align: right;\n",
       "    }\n",
       "</style>\n",
       "<table border=\"1\" class=\"dataframe\">\n",
       "  <thead>\n",
       "    <tr style=\"text-align: right;\">\n",
       "      <th></th>\n",
       "      <th>top_10</th>\n",
       "      <th>top_20</th>\n",
       "      <th>pid</th>\n",
       "      <th>tid</th>\n",
       "      <th>recomendaciones_acertadas@10</th>\n",
       "      <th>recomendaciones_acertadas@20</th>\n",
       "    </tr>\n",
       "  </thead>\n",
       "  <tbody>\n",
       "    <tr>\n",
       "      <th>0</th>\n",
       "      <td>[4158, 7457, 128, 7357, 8884, 5173, 6066, 4931...</td>\n",
       "      <td>[4158, 7457, 128, 7357, 8884, 5173, 6066, 4931...</td>\n",
       "      <td>0</td>\n",
       "      <td>[22, 34, 20, 30, 26, 35, 18, 49, 31, 29]</td>\n",
       "      <td>[]</td>\n",
       "      <td>[]</td>\n",
       "    </tr>\n",
       "    <tr>\n",
       "      <th>1</th>\n",
       "      <td>[5974, 7357, 4380, 824, 4177, 5939, 286, 3236,...</td>\n",
       "      <td>[5974, 7357, 4380, 824, 4177, 5939, 286, 3236,...</td>\n",
       "      <td>1</td>\n",
       "      <td>[84, 74, 64, 53, 77, 76, 57, 86]</td>\n",
       "      <td>[]</td>\n",
       "      <td>[]</td>\n",
       "    </tr>\n",
       "    <tr>\n",
       "      <th>2</th>\n",
       "      <td>[5974, 7357, 5173, 7457, 1406, 6066, 4158, 323...</td>\n",
       "      <td>[5974, 7357, 5173, 7457, 1406, 6066, 4158, 323...</td>\n",
       "      <td>2</td>\n",
       "      <td>[148, 146, 107, 108, 150, 132, 93, 115, 94, 11...</td>\n",
       "      <td>[]</td>\n",
       "      <td>[]</td>\n",
       "    </tr>\n",
       "    <tr>\n",
       "      <th>3</th>\n",
       "      <td>[7457, 5173, 2879, 6066, 1871, 4158, 9921, 128...</td>\n",
       "      <td>[7457, 5173, 2879, 6066, 1871, 4158, 9921, 128...</td>\n",
       "      <td>3</td>\n",
       "      <td>[200, 203, 216, 202, 237, 277, 232, 161, 265, ...</td>\n",
       "      <td>[]</td>\n",
       "      <td>[]</td>\n",
       "    </tr>\n",
       "    <tr>\n",
       "      <th>4</th>\n",
       "      <td>[1871, 5053, 128, 7215, 594, 3097, 9921, 5173,...</td>\n",
       "      <td>[1871, 5053, 128, 7215, 594, 3097, 9921, 5173,...</td>\n",
       "      <td>4</td>\n",
       "      <td>[280, 282, 281]</td>\n",
       "      <td>[]</td>\n",
       "      <td>[]</td>\n",
       "    </tr>\n",
       "    <tr>\n",
       "      <th>...</th>\n",
       "      <td>...</td>\n",
       "      <td>...</td>\n",
       "      <td>...</td>\n",
       "      <td>...</td>\n",
       "      <td>...</td>\n",
       "      <td>...</td>\n",
       "    </tr>\n",
       "    <tr>\n",
       "      <th>9995</th>\n",
       "      <td>[2470, 1418, 1848, 2787, 853, 4361, 5191, 235,...</td>\n",
       "      <td>[2470, 1418, 1848, 2787, 853, 4361, 5191, 235,...</td>\n",
       "      <td>106995</td>\n",
       "      <td>[2131, 169633, 3084, 169631, 11192, 7208, 1763...</td>\n",
       "      <td>[]</td>\n",
       "      <td>[]</td>\n",
       "    </tr>\n",
       "    <tr>\n",
       "      <th>9996</th>\n",
       "      <td>[2470, 1418, 1848, 2787, 853, 4361, 5191, 235,...</td>\n",
       "      <td>[2470, 1418, 1848, 2787, 853, 4361, 5191, 235,...</td>\n",
       "      <td>106996</td>\n",
       "      <td>[19773, 4697, 169637, 6663, 36628, 57389, 1977...</td>\n",
       "      <td>[]</td>\n",
       "      <td>[]</td>\n",
       "    </tr>\n",
       "    <tr>\n",
       "      <th>9997</th>\n",
       "      <td>[2470, 1418, 1848, 2787, 853, 4361, 5191, 235,...</td>\n",
       "      <td>[2470, 1418, 1848, 2787, 853, 4361, 5191, 235,...</td>\n",
       "      <td>106997</td>\n",
       "      <td>[1613, 169646, 169649]</td>\n",
       "      <td>[]</td>\n",
       "      <td>[]</td>\n",
       "    </tr>\n",
       "    <tr>\n",
       "      <th>9998</th>\n",
       "      <td>[2470, 1418, 1848, 2787, 853, 4361, 5191, 235,...</td>\n",
       "      <td>[2470, 1418, 1848, 2787, 853, 4361, 5191, 235,...</td>\n",
       "      <td>106998</td>\n",
       "      <td>[77504, 4821, 5982, 3606, 1333, 38799, 12931, ...</td>\n",
       "      <td>[]</td>\n",
       "      <td>[]</td>\n",
       "    </tr>\n",
       "    <tr>\n",
       "      <th>9999</th>\n",
       "      <td>[2470, 1418, 1848, 2787, 853, 4361, 5191, 235,...</td>\n",
       "      <td>[2470, 1418, 1848, 2787, 853, 4361, 5191, 235,...</td>\n",
       "      <td>106999</td>\n",
       "      <td>[26159, 7717, 2802, 2030, 17326, 15971, 2796, ...</td>\n",
       "      <td>[]</td>\n",
       "      <td>[]</td>\n",
       "    </tr>\n",
       "  </tbody>\n",
       "</table>\n",
       "<p>10000 rows × 6 columns</p>\n",
       "</div>"
      ],
      "text/plain": [
       "                                                 top_10  \\\n",
       "0     [4158, 7457, 128, 7357, 8884, 5173, 6066, 4931...   \n",
       "1     [5974, 7357, 4380, 824, 4177, 5939, 286, 3236,...   \n",
       "2     [5974, 7357, 5173, 7457, 1406, 6066, 4158, 323...   \n",
       "3     [7457, 5173, 2879, 6066, 1871, 4158, 9921, 128...   \n",
       "4     [1871, 5053, 128, 7215, 594, 3097, 9921, 5173,...   \n",
       "...                                                 ...   \n",
       "9995  [2470, 1418, 1848, 2787, 853, 4361, 5191, 235,...   \n",
       "9996  [2470, 1418, 1848, 2787, 853, 4361, 5191, 235,...   \n",
       "9997  [2470, 1418, 1848, 2787, 853, 4361, 5191, 235,...   \n",
       "9998  [2470, 1418, 1848, 2787, 853, 4361, 5191, 235,...   \n",
       "9999  [2470, 1418, 1848, 2787, 853, 4361, 5191, 235,...   \n",
       "\n",
       "                                                 top_20     pid  \\\n",
       "0     [4158, 7457, 128, 7357, 8884, 5173, 6066, 4931...       0   \n",
       "1     [5974, 7357, 4380, 824, 4177, 5939, 286, 3236,...       1   \n",
       "2     [5974, 7357, 5173, 7457, 1406, 6066, 4158, 323...       2   \n",
       "3     [7457, 5173, 2879, 6066, 1871, 4158, 9921, 128...       3   \n",
       "4     [1871, 5053, 128, 7215, 594, 3097, 9921, 5173,...       4   \n",
       "...                                                 ...     ...   \n",
       "9995  [2470, 1418, 1848, 2787, 853, 4361, 5191, 235,...  106995   \n",
       "9996  [2470, 1418, 1848, 2787, 853, 4361, 5191, 235,...  106996   \n",
       "9997  [2470, 1418, 1848, 2787, 853, 4361, 5191, 235,...  106997   \n",
       "9998  [2470, 1418, 1848, 2787, 853, 4361, 5191, 235,...  106998   \n",
       "9999  [2470, 1418, 1848, 2787, 853, 4361, 5191, 235,...  106999   \n",
       "\n",
       "                                                    tid  \\\n",
       "0              [22, 34, 20, 30, 26, 35, 18, 49, 31, 29]   \n",
       "1                      [84, 74, 64, 53, 77, 76, 57, 86]   \n",
       "2     [148, 146, 107, 108, 150, 132, 93, 115, 94, 11...   \n",
       "3     [200, 203, 216, 202, 237, 277, 232, 161, 265, ...   \n",
       "4                                       [280, 282, 281]   \n",
       "...                                                 ...   \n",
       "9995  [2131, 169633, 3084, 169631, 11192, 7208, 1763...   \n",
       "9996  [19773, 4697, 169637, 6663, 36628, 57389, 1977...   \n",
       "9997                             [1613, 169646, 169649]   \n",
       "9998  [77504, 4821, 5982, 3606, 1333, 38799, 12931, ...   \n",
       "9999  [26159, 7717, 2802, 2030, 17326, 15971, 2796, ...   \n",
       "\n",
       "     recomendaciones_acertadas@10 recomendaciones_acertadas@20  \n",
       "0                              []                           []  \n",
       "1                              []                           []  \n",
       "2                              []                           []  \n",
       "3                              []                           []  \n",
       "4                              []                           []  \n",
       "...                           ...                          ...  \n",
       "9995                           []                           []  \n",
       "9996                           []                           []  \n",
       "9997                           []                           []  \n",
       "9998                           []                           []  \n",
       "9999                           []                           []  \n",
       "\n",
       "[10000 rows x 6 columns]"
      ]
     },
     "execution_count": 4,
     "metadata": {},
     "output_type": "execute_result"
    }
   ],
   "source": [
    "df_recomendaciones.keys()\n",
    "df_recomendaciones['ann']"
   ]
  },
  {
   "cell_type": "markdown",
   "metadata": {},
   "source": [
    "# Aciertos dentro de recomendaciones correctas"
   ]
  },
  {
   "cell_type": "code",
   "execution_count": 6,
   "metadata": {},
   "outputs": [],
   "source": [
    "def view_aciertos(df):\n",
    "    #filtra los aciertos, es decir, listas con largo mayor a 0\n",
    "    top_10 = df.loc[df['recomendaciones_acertadas@10'].apply(len) > 0]\n",
    "    top_20 = df.loc[df['recomendaciones_acertadas@20'].apply(len) > 0]\n",
    "\n",
    "    return top_10, top_20"
   ]
  },
  {
   "cell_type": "code",
   "execution_count": 7,
   "metadata": {},
   "outputs": [
    {
     "name": "stderr",
     "output_type": "stream",
     "text": [
      "C:\\Users\\chile\\AppData\\Local\\Temp\\ipykernel_9624\\3683793998.py:6: SettingWithCopyWarning: \n",
      "A value is trying to be set on a copy of a slice from a DataFrame\n",
      "\n",
      "See the caveats in the documentation: https://pandas.pydata.org/pandas-docs/stable/user_guide/indexing.html#returning-a-view-versus-a-copy\n",
      "  top_10_ann.drop(columns=['recomendaciones_acertadas@20'], inplace=True)\n",
      "C:\\Users\\chile\\AppData\\Local\\Temp\\ipykernel_9624\\3683793998.py:8: SettingWithCopyWarning: \n",
      "A value is trying to be set on a copy of a slice from a DataFrame\n",
      "\n",
      "See the caveats in the documentation: https://pandas.pydata.org/pandas-docs/stable/user_guide/indexing.html#returning-a-view-versus-a-copy\n",
      "  top_20_ann.drop(columns=['recomendaciones_acertadas@10'], inplace=True)\n",
      "C:\\Users\\chile\\AppData\\Local\\Temp\\ipykernel_9624\\3683793998.py:10: SettingWithCopyWarning: \n",
      "A value is trying to be set on a copy of a slice from a DataFrame\n",
      "\n",
      "See the caveats in the documentation: https://pandas.pydata.org/pandas-docs/stable/user_guide/indexing.html#returning-a-view-versus-a-copy\n",
      "  top_10_lsh.drop(columns=['recomendaciones_acertadas@20'], inplace=True)\n",
      "C:\\Users\\chile\\AppData\\Local\\Temp\\ipykernel_9624\\3683793998.py:12: SettingWithCopyWarning: \n",
      "A value is trying to be set on a copy of a slice from a DataFrame\n",
      "\n",
      "See the caveats in the documentation: https://pandas.pydata.org/pandas-docs/stable/user_guide/indexing.html#returning-a-view-versus-a-copy\n",
      "  top_20_lsh.drop(columns=['recomendaciones_acertadas@10'], inplace=True)\n",
      "C:\\Users\\chile\\AppData\\Local\\Temp\\ipykernel_9624\\3683793998.py:14: SettingWithCopyWarning: \n",
      "A value is trying to be set on a copy of a slice from a DataFrame\n",
      "\n",
      "See the caveats in the documentation: https://pandas.pydata.org/pandas-docs/stable/user_guide/indexing.html#returning-a-view-versus-a-copy\n",
      "  top_10_als.drop(columns=['recomendaciones_acertadas@20'], inplace=True)\n",
      "C:\\Users\\chile\\AppData\\Local\\Temp\\ipykernel_9624\\3683793998.py:16: SettingWithCopyWarning: \n",
      "A value is trying to be set on a copy of a slice from a DataFrame\n",
      "\n",
      "See the caveats in the documentation: https://pandas.pydata.org/pandas-docs/stable/user_guide/indexing.html#returning-a-view-versus-a-copy\n",
      "  top_20_als.drop(columns=['recomendaciones_acertadas@10'], inplace=True)\n",
      "C:\\Users\\chile\\AppData\\Local\\Temp\\ipykernel_9624\\3683793998.py:18: SettingWithCopyWarning: \n",
      "A value is trying to be set on a copy of a slice from a DataFrame\n",
      "\n",
      "See the caveats in the documentation: https://pandas.pydata.org/pandas-docs/stable/user_guide/indexing.html#returning-a-view-versus-a-copy\n",
      "  top_10_random.drop(columns=['recomendaciones_acertadas@20'], inplace=True)\n",
      "C:\\Users\\chile\\AppData\\Local\\Temp\\ipykernel_9624\\3683793998.py:20: SettingWithCopyWarning: \n",
      "A value is trying to be set on a copy of a slice from a DataFrame\n",
      "\n",
      "See the caveats in the documentation: https://pandas.pydata.org/pandas-docs/stable/user_guide/indexing.html#returning-a-view-versus-a-copy\n",
      "  top_20_random.drop(columns=['recomendaciones_acertadas@10'], inplace=True)\n"
     ]
    }
   ],
   "source": [
    "top_10_als,top_20_als = view_aciertos(df_recomendaciones['als'])\n",
    "top_10_ann,top_20_ann = view_aciertos(df_recomendaciones['ann'])\n",
    "top_10_lsh,top_20_lsh = view_aciertos(df_recomendaciones['lsh'])\n",
    "top_10_random,top_20_random = view_aciertos(df_recomendaciones['random'])\n",
    "\n",
    "top_10_ann.drop(columns=['recomendaciones_acertadas@20'], inplace=True)\n",
    "\n",
    "top_20_ann.drop(columns=['recomendaciones_acertadas@10'], inplace=True)\n",
    "\n",
    "top_10_lsh.drop(columns=['recomendaciones_acertadas@20'], inplace=True)\n",
    "\n",
    "top_20_lsh.drop(columns=['recomendaciones_acertadas@10'], inplace=True)\n",
    "\n",
    "top_10_als.drop(columns=['recomendaciones_acertadas@20'], inplace=True)\n",
    "\n",
    "top_20_als.drop(columns=['recomendaciones_acertadas@10'], inplace=True)\n",
    "\n",
    "top_10_random.drop(columns=['recomendaciones_acertadas@20'], inplace=True)\n",
    "\n",
    "top_20_random.drop(columns=['recomendaciones_acertadas@10'], inplace=True)"
   ]
  },
  {
   "cell_type": "markdown",
   "metadata": {},
   "source": [
    "### Se tiene que dropear la columna que no corresponda al top de recomendaciones"
   ]
  },
  {
   "cell_type": "code",
   "execution_count": 8,
   "metadata": {},
   "outputs": [
    {
     "name": "stderr",
     "output_type": "stream",
     "text": [
      "C:\\Users\\chile\\AppData\\Local\\Temp\\ipykernel_9624\\3415758929.py:3: SettingWithCopyWarning: \n",
      "A value is trying to be set on a copy of a slice from a DataFrame.\n",
      "Try using .loc[row_indexer,col_indexer] = value instead\n",
      "\n",
      "See the caveats in the documentation: https://pandas.pydata.org/pandas-docs/stable/user_guide/indexing.html#returning-a-view-versus-a-copy\n",
      "  df['porcentaje_aciertos@10'] = df.apply(lambda row: len(row['recomendaciones_acertadas@10']) / len(row['tid']) * 100, axis=1)\n",
      "C:\\Users\\chile\\AppData\\Local\\Temp\\ipykernel_9624\\3415758929.py:5: SettingWithCopyWarning: \n",
      "A value is trying to be set on a copy of a slice from a DataFrame.\n",
      "Try using .loc[row_indexer,col_indexer] = value instead\n",
      "\n",
      "See the caveats in the documentation: https://pandas.pydata.org/pandas-docs/stable/user_guide/indexing.html#returning-a-view-versus-a-copy\n",
      "  df['porcentaje_aciertos@20'] = df.apply(lambda row: len(row['recomendaciones_acertadas@20']) / len(row['tid']) * 100, axis=1)\n",
      "C:\\Users\\chile\\AppData\\Local\\Temp\\ipykernel_9624\\3415758929.py:3: SettingWithCopyWarning: \n",
      "A value is trying to be set on a copy of a slice from a DataFrame.\n",
      "Try using .loc[row_indexer,col_indexer] = value instead\n",
      "\n",
      "See the caveats in the documentation: https://pandas.pydata.org/pandas-docs/stable/user_guide/indexing.html#returning-a-view-versus-a-copy\n",
      "  df['porcentaje_aciertos@10'] = df.apply(lambda row: len(row['recomendaciones_acertadas@10']) / len(row['tid']) * 100, axis=1)\n",
      "C:\\Users\\chile\\AppData\\Local\\Temp\\ipykernel_9624\\3415758929.py:5: SettingWithCopyWarning: \n",
      "A value is trying to be set on a copy of a slice from a DataFrame.\n",
      "Try using .loc[row_indexer,col_indexer] = value instead\n",
      "\n",
      "See the caveats in the documentation: https://pandas.pydata.org/pandas-docs/stable/user_guide/indexing.html#returning-a-view-versus-a-copy\n",
      "  df['porcentaje_aciertos@20'] = df.apply(lambda row: len(row['recomendaciones_acertadas@20']) / len(row['tid']) * 100, axis=1)\n",
      "C:\\Users\\chile\\AppData\\Local\\Temp\\ipykernel_9624\\3415758929.py:3: SettingWithCopyWarning: \n",
      "A value is trying to be set on a copy of a slice from a DataFrame.\n",
      "Try using .loc[row_indexer,col_indexer] = value instead\n",
      "\n",
      "See the caveats in the documentation: https://pandas.pydata.org/pandas-docs/stable/user_guide/indexing.html#returning-a-view-versus-a-copy\n",
      "  df['porcentaje_aciertos@10'] = df.apply(lambda row: len(row['recomendaciones_acertadas@10']) / len(row['tid']) * 100, axis=1)\n",
      "C:\\Users\\chile\\AppData\\Local\\Temp\\ipykernel_9624\\3415758929.py:5: SettingWithCopyWarning: \n",
      "A value is trying to be set on a copy of a slice from a DataFrame.\n",
      "Try using .loc[row_indexer,col_indexer] = value instead\n",
      "\n",
      "See the caveats in the documentation: https://pandas.pydata.org/pandas-docs/stable/user_guide/indexing.html#returning-a-view-versus-a-copy\n",
      "  df['porcentaje_aciertos@20'] = df.apply(lambda row: len(row['recomendaciones_acertadas@20']) / len(row['tid']) * 100, axis=1)\n",
      "C:\\Users\\chile\\AppData\\Local\\Temp\\ipykernel_9624\\3415758929.py:3: SettingWithCopyWarning: \n",
      "A value is trying to be set on a copy of a slice from a DataFrame.\n",
      "Try using .loc[row_indexer,col_indexer] = value instead\n",
      "\n",
      "See the caveats in the documentation: https://pandas.pydata.org/pandas-docs/stable/user_guide/indexing.html#returning-a-view-versus-a-copy\n",
      "  df['porcentaje_aciertos@10'] = df.apply(lambda row: len(row['recomendaciones_acertadas@10']) / len(row['tid']) * 100, axis=1)\n",
      "C:\\Users\\chile\\AppData\\Local\\Temp\\ipykernel_9624\\3415758929.py:5: SettingWithCopyWarning: \n",
      "A value is trying to be set on a copy of a slice from a DataFrame.\n",
      "Try using .loc[row_indexer,col_indexer] = value instead\n",
      "\n",
      "See the caveats in the documentation: https://pandas.pydata.org/pandas-docs/stable/user_guide/indexing.html#returning-a-view-versus-a-copy\n",
      "  df['porcentaje_aciertos@20'] = df.apply(lambda row: len(row['recomendaciones_acertadas@20']) / len(row['tid']) * 100, axis=1)\n"
     ]
    }
   ],
   "source": [
    "def calculo_aciertos(df):\n",
    "    if 'recomendaciones_acertadas@10' in df.columns:\n",
    "        df['porcentaje_aciertos@10'] = df.apply(lambda row: len(row['recomendaciones_acertadas@10']) / len(row['tid']) * 100, axis=1)\n",
    "    if 'recomendaciones_acertadas@20' in df.columns:\n",
    "        df['porcentaje_aciertos@20'] = df.apply(lambda row: len(row['recomendaciones_acertadas@20']) / len(row['tid']) * 100, axis=1)\n",
    "\n",
    "# Aplicar la función a los DataFrames de recomendaciones\n",
    "calculo_aciertos(top_10_als)\n",
    "calculo_aciertos(top_20_als)\n",
    "calculo_aciertos(top_10_ann)\n",
    "calculo_aciertos(top_20_ann)\n",
    "calculo_aciertos(top_10_lsh)\n",
    "calculo_aciertos(top_20_lsh)\n",
    "calculo_aciertos(top_10_random)\n",
    "calculo_aciertos(top_20_random)"
   ]
  },
  {
   "cell_type": "code",
   "execution_count": 9,
   "metadata": {},
   "outputs": [],
   "source": [
    "als = {'top_10': top_10_als, 'top_20': top_20_als}\n",
    "ann = {'top_10': top_10_ann, 'top_20': top_20_ann}\n",
    "lsh = {'top_10': top_10_lsh, 'top_20': top_20_lsh}\n",
    "random = {'top_10': top_10_random, 'top_20': top_20_random}"
   ]
  },
  {
   "cell_type": "code",
   "execution_count": 10,
   "metadata": {},
   "outputs": [
    {
     "data": {
      "text/plain": [
       "10.097851891596434"
      ]
     },
     "execution_count": 10,
     "metadata": {},
     "output_type": "execute_result"
    }
   ],
   "source": [
    "top_20_ann['porcentaje_aciertos@20'].mean()"
   ]
  },
  {
   "cell_type": "code",
   "execution_count": 11,
   "metadata": {},
   "outputs": [],
   "source": [
    "aciertos_in = {}"
   ]
  },
  {
   "cell_type": "code",
   "execution_count": 12,
   "metadata": {},
   "outputs": [
    {
     "name": "stdout",
     "output_type": "stream",
     "text": [
      "Porcentaje de aciertos @10 para top_10 es: 9.3348%\n",
      "\n",
      "\n",
      "Porcentaje de aciertos @20 para top_20 es: 9.323%\n",
      "\n",
      "\n",
      "Porcentaje de aciertos @10 para top_10 es: 8.5921%\n",
      "\n",
      "\n",
      "Porcentaje de aciertos @20 para top_20 es: 10.098%\n",
      "\n",
      "\n",
      "Porcentaje de aciertos @10 para top_10 es: 9.3348%\n",
      "\n",
      "\n",
      "Porcentaje de aciertos @20 para top_20 es: 9.323%\n",
      "\n",
      "\n",
      "Porcentaje de aciertos @10 para top_10 es: 9.0272%\n",
      "\n",
      "\n",
      "Porcentaje de aciertos @20 para top_20 es: 8.317%\n",
      "\n",
      "\n"
     ]
    }
   ],
   "source": [
    "for i,model in zip(['als','ann','lsh', 'random'],[als,ann,lsh,random]): \n",
    "    for key in model.keys():\n",
    "        df = model[key]\n",
    "        # calculemos la media de los porcentajes de aciertos\n",
    "        if 'porcentaje_aciertos@10' in df.columns:\n",
    "            x = 'porcentaje_aciertos@10'\n",
    "            print(f\"Porcentaje de aciertos @10 para {key} es: {round(df['porcentaje_aciertos@10'].mean(),4)}%\")\n",
    "        if 'porcentaje_aciertos@20' in df.columns:\n",
    "            x = 'porcentaje_aciertos@20'\n",
    "            print(f\"Porcentaje de aciertos @20 para {key} es: {round(df['porcentaje_aciertos@20'].mean(),3)}%\")\n",
    "        print(\"\\n\")\n",
    "\n",
    "        if i not in aciertos_in:\n",
    "            aciertos_in[i] = {}\n",
    "        aciertos_in[i][key] = df[x].mean()"
   ]
  },
  {
   "cell_type": "code",
   "execution_count": 13,
   "metadata": {},
   "outputs": [
    {
     "data": {
      "text/plain": [
       "{'als': {'top_10': 9.334752747252747, 'top_20': 9.323358189429616},\n",
       " 'ann': {'top_10': 8.592110771132663, 'top_20': 10.097851891596434},\n",
       " 'lsh': {'top_10': 9.334752747252747, 'top_20': 9.323358189429616},\n",
       " 'random': {'top_10': 9.027160704792283, 'top_20': 8.317446659508853}}"
      ]
     },
     "execution_count": 13,
     "metadata": {},
     "output_type": "execute_result"
    }
   ],
   "source": [
    "aciertos_in"
   ]
  },
  {
   "cell_type": "markdown",
   "metadata": {},
   "source": [
    "# Playlist en las que al menos se acerto una vez"
   ]
  },
  {
   "cell_type": "code",
   "execution_count": 15,
   "metadata": {},
   "outputs": [
    {
     "name": "stdout",
     "output_type": "stream",
     "text": [
      "El total de playlist en top_10 es: 10\n",
      "El total de playlist en top_20 es: 14\n",
      "El total de playlist en top_10 es: 54\n",
      "El total de playlist en top_20 es: 106\n",
      "El total de playlist en top_10 es: 10\n",
      "El total de playlist en top_20 es: 14\n",
      "El total de playlist en top_10 es: 6\n",
      "El total de playlist en top_20 es: 13\n"
     ]
    }
   ],
   "source": [
    "total_pid = 10000\n",
    "\n",
    "per_pid_aciertos = {}\n",
    "\n",
    "for i,model in zip(['als','ann','lsh', 'random'],[als,ann,lsh,random]): \n",
    "    for key in model.keys():\n",
    "        df = model[key]\n",
    "        largo = df.shape[0]\n",
    "        print(f\"El total de playlist en {key} es: {largo}\")\n",
    "        if i not in per_pid_aciertos:\n",
    "            per_pid_aciertos[i] = {}\n",
    "        per_pid_aciertos[i][key] = largo/total_pid"
   ]
  },
  {
   "cell_type": "code",
   "execution_count": 16,
   "metadata": {},
   "outputs": [
    {
     "data": {
      "text/plain": [
       "{'als': {'top_10': 0.001, 'top_20': 0.0014},\n",
       " 'ann': {'top_10': 0.0054, 'top_20': 0.0106},\n",
       " 'lsh': {'top_10': 0.001, 'top_20': 0.0014},\n",
       " 'random': {'top_10': 0.0006, 'top_20': 0.0013}}"
      ]
     },
     "execution_count": 16,
     "metadata": {},
     "output_type": "execute_result"
    }
   ],
   "source": [
    "per_pid_aciertos"
   ]
  },
  {
   "cell_type": "code",
   "execution_count": 19,
   "metadata": {},
   "outputs": [
    {
     "name": "stdout",
     "output_type": "stream",
     "text": [
      "Top 10 - Precisión: 0.0001, Recuperación: 0.0001, F1-Score: 0.0001\n",
      "Top 20 - Precisión: 0.0001, Recuperación: 0.0001, F1-Score: 0.0001\n"
     ]
    }
   ],
   "source": [
    "# Función para calcular las métricas para una fila dada\n",
    "def calcular_metricas_fila(row, k):\n",
    "    # Definir la columna de recomendaciones acertadas\n",
    "    columna_acertadas = f'recomendaciones_acertadas@{k}'\n",
    "    # Obtener el número de recomendaciones acertadas\n",
    "    num_acertadas = len(row[columna_acertadas])\n",
    "    # Obtener el número total de recomendaciones y de canciones reales\n",
    "    num_recomendaciones = min(len(row[f'top_{k}']), k)\n",
    "    num_reales = len(row['tid'])\n",
    "    \n",
    "    # Calcular precisión y recuperación\n",
    "    precision = num_acertadas / num_recomendaciones if num_recomendaciones > 0 else 0\n",
    "    recall = num_acertadas / num_reales if num_reales > 0 else 0\n",
    "\n",
    "    # Calcular F1-score\n",
    "    if precision + recall > 0:\n",
    "        f1_score = 2 * (precision * recall) / (precision + recall)\n",
    "    else:\n",
    "        f1_score = 0\n",
    "\n",
    "    return precision, recall, f1_score\n",
    "\n",
    "# Función para aplicar las métricas a todo el DataFrame\n",
    "def calcular_metricas(df, k):\n",
    "    precision_list = []\n",
    "    recall_list = []\n",
    "    f1_score_list = []\n",
    "    \n",
    "    for _, row in df.iterrows():\n",
    "        precision, recall, f1_score = calcular_metricas_fila(row, k)\n",
    "        precision_list.append(precision)\n",
    "        recall_list.append(recall)\n",
    "        f1_score_list.append(f1_score)\n",
    "    \n",
    "    # Calcular métricas promedio\n",
    "    precision_promedio = sum(precision_list) / len(precision_list)\n",
    "    recall_promedio = sum(recall_list) / len(recall_list)\n",
    "    f1_score_promedio = sum(f1_score_list) / len(f1_score_list)\n",
    "    \n",
    "    return precision_promedio, recall_promedio, f1_score_promedio\n",
    "\n",
    "# Calcular métricas para top 10 y top 20\n",
    "metricas = {}\n",
    "for i,model in zip(['als','ann','lsh','random'],[als,ann,lsh,random]):\n",
    "    df = df_recomendaciones[i]\n",
    "    precision_10, recall_10, f1_score_10 = calcular_metricas(df, 10)\n",
    "    precision_20, recall_20, f1_score_20 = calcular_metricas(df, 20)\n",
    "\n",
    "    if i not in metricas:\n",
    "        metricas[i] = {}\n",
    "    metricas[i]['precision_10'] = precision_10\n",
    "    metricas[i]['recall_10'] = recall_10\n",
    "    metricas[i]['f1_score_10'] = f1_score_10\n",
    "    metricas[i]['precision_20'] = precision_20\n",
    "    metricas[i]['recall_20'] = recall_20\n",
    "    metricas[i]['f1_score_20'] = f1_score_20\n",
    "    \n",
    "\n",
    "# Mostrar resultados\n",
    "print(f\"Top 10 - Precisión: {precision_10:.4f}, Recuperación: {recall_10:.4f}, F1-Score: {f1_score_10:.4f}\")\n",
    "print(f\"Top 20 - Precisión: {precision_20:.4f}, Recuperación: {recall_20:.4f}, F1-Score: {f1_score_20:.4f}\")"
   ]
  }
 ],
 "metadata": {
  "kernelspec": {
   "display_name": "geopandas_env",
   "language": "python",
   "name": "python3"
  },
  "language_info": {
   "codemirror_mode": {
    "name": "ipython",
    "version": 3
   },
   "file_extension": ".py",
   "mimetype": "text/x-python",
   "name": "python",
   "nbconvert_exporter": "python",
   "pygments_lexer": "ipython3",
   "version": "3.12.2"
  }
 },
 "nbformat": 4,
 "nbformat_minor": 2
}
