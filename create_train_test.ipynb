{
 "cells": [
  {
   "cell_type": "code",
   "execution_count": 13,
   "metadata": {},
   "outputs": [
    {
     "name": "stdout",
     "output_type": "stream",
     "text": [
      "Total de filas en train_set: 536437\n",
      "Total de filas en test_set: 134131\n",
      "Total de filas en el dataset original: 670568\n",
      "Suma de filas en train_set y test_set: 670568\n"
     ]
    }
   ],
   "source": [
    "import pandas as pd\n",
    "import numpy as np\n",
    "\n",
    "# Leer el archivo CSV\n",
    "file_path = 'data/playlist.csv'\n",
    "data = pd.read_csv(file_path)\n",
    "\n",
    "# Función para crear los conjuntos de entrenamiento y prueba\n",
    "def create_train_test_sets(df, test_fraction=0.2):\n",
    "    # Listas para almacenar los conjuntos de datos de prueba y entrenamiento\n",
    "    train_list = []\n",
    "    test_list = []\n",
    "    \n",
    "    # Iterar sobre cada pid único\n",
    "    for pid, group in df.groupby('pid'):\n",
    "        # Seleccionar aleatoriamente el 20% de las canciones del grupo actual\n",
    "        test_indices = group.sample(frac=test_fraction).index\n",
    "        test_set = group.loc[test_indices]\n",
    "        train_set = group.drop(test_indices)\n",
    "        \n",
    "        # Agregar los resultados a las listas\n",
    "        train_list.append(train_set)\n",
    "        test_list.append(test_set)\n",
    "    \n",
    "    # Concatenar todos los grupos de entrenamiento y prueba en dos DataFrames\n",
    "    train_set = pd.concat(train_list).reset_index(drop=True)\n",
    "    test_set = pd.concat(test_list).reset_index(drop=True)\n",
    "    \n",
    "    return train_set, test_set\n",
    "\n",
    "# Crear los conjuntos de entrenamiento y prueba\n",
    "train_set, test_set = create_train_test_sets(data)\n",
    "\n",
    "# Comprobar las cantidades de filas\n",
    "print(f\"Total de filas en train_set: {len(train_set)}\")\n",
    "print(f\"Total de filas en test_set: {len(test_set)}\")\n",
    "print(f\"Total de filas en el dataset original: {len(data)}\")\n",
    "print(f\"Suma de filas en train_set y test_set: {len(train_set) + len(test_set)}\")\n",
    "\n",
    "# Guardar los conjuntos en archivos CSV (opcional)\n",
    "train_set.to_csv('train_set.csv', index=False)\n",
    "test_set.to_csv('test_set.csv', index=False)\n",
    "\n"
   ]
  }
 ],
 "metadata": {
  "kernelspec": {
   "display_name": "Python 3",
   "language": "python",
   "name": "python3"
  },
  "language_info": {
   "codemirror_mode": {
    "name": "ipython",
    "version": 3
   },
   "file_extension": ".py",
   "mimetype": "text/x-python",
   "name": "python",
   "nbconvert_exporter": "python",
   "pygments_lexer": "ipython3",
   "version": "3.12.0"
  }
 },
 "nbformat": 4,
 "nbformat_minor": 2
}
