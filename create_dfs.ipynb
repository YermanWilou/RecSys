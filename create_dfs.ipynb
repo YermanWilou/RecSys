{
 "cells": [
  {
   "cell_type": "code",
   "execution_count": 2,
   "metadata": {},
   "outputs": [],
   "source": [
    "import os\n",
    "import json\n",
    "import pandas as pd\n",
    "import time\n",
    "from tqdm import tqdm\n",
    "import gc\n",
    "from bs4 import BeautifulSoup\n",
    "import requests"
   ]
  },
  {
   "cell_type": "code",
   "execution_count": 3,
   "metadata": {},
   "outputs": [],
   "source": [
    "project_path = \".\""
   ]
  },
  {
   "cell_type": "code",
   "execution_count": 4,
   "metadata": {},
   "outputs": [],
   "source": [
    "\n",
    "def create_df_data(path):\n",
    "    \n",
    "    playlist_col = ['collaborative', 'duration_ms', 'modified_at', \n",
    "                    'name', 'num_albums', 'num_artists', 'num_edits',\n",
    "                    'num_followers', 'num_tracks', 'pid']\n",
    "    tracks_col = ['album_name', 'album_uri', 'artist_name', 'artist_uri', \n",
    "                  'duration_ms', 'track_name', 'track_uri'] \n",
    "    \n",
    "    filenames = os.listdir(path + '/mpd/data')\n",
    "    \n",
    "    data_playlists = []\n",
    "    data_tracks = []\n",
    "    playlists = []\n",
    "\n",
    "    tracks = set()\n",
    "    \n",
    "    total_time = 0\n",
    "    \n",
    "    print(\"Reading the dataset\")\n",
    "    for filename in tqdm(filenames):\n",
    "        start_time = time.time()  \n",
    "        fullpath = os.sep.join((path + '/mpd/data/', filename))\n",
    "        f = open(fullpath)\n",
    "        js = f.read()\n",
    "        f.close()\n",
    "\n",
    "        mpd_slice = json.loads(js)\n",
    "\n",
    "        for playlist in mpd_slice['playlists']:\n",
    "            data_playlists.append([playlist[col] for col in playlist_col])\n",
    "            for track in playlist['tracks']:\n",
    "                playlists.append([playlist['pid'], track['track_uri'], track['pos']])\n",
    "                if track['track_uri'] not in tracks:\n",
    "                    data_tracks.append([track[col] for col in tracks_col])\n",
    "                    tracks.add(track['track_uri'])\n",
    "        duration = time.time() - start_time\n",
    "        total_time += duration\n",
    "\n",
    "    print(\"Total time elapsed: \", total_time)\n",
    "    gc.collect()\n",
    "    \n",
    "    df_playlists_info = pd.DataFrame(data_playlists, columns=playlist_col)\n",
    "    df_playlists_info['collaborative'] = df_playlists_info['collaborative'].map({'false': False, 'true': True})\n",
    "\n",
    "    df_tracks = pd.DataFrame(data_tracks, columns=tracks_col)\n",
    "    df_tracks['tid'] = df_tracks.index\n",
    "\n",
    "    track_uri2tid = df_tracks.set_index('track_uri').tid\n",
    "\n",
    "    df_playlists = pd.DataFrame.from_records(playlists, columns=['pid', 'tid', 'pos'])\n",
    "    df_playlists.tid = df_playlists.tid.map(track_uri2tid)\n",
    "\n",
    "    return {\"playlist_info\":df_playlists_info,\n",
    "            \"tracks\":df_tracks,\n",
    "            \"playlist\":df_playlists}\n"
   ]
  },
  {
   "cell_type": "code",
   "execution_count": 5,
   "metadata": {},
   "outputs": [
    {
     "name": "stdout",
     "output_type": "stream",
     "text": [
      "Reading the dataset\n"
     ]
    },
    {
     "name": "stderr",
     "output_type": "stream",
     "text": [
      "100%|██████████| 10/10 [00:02<00:00,  3.50it/s]\n"
     ]
    },
    {
     "name": "stdout",
     "output_type": "stream",
     "text": [
      "Total time elapsed:  2.848677396774292\n"
     ]
    }
   ],
   "source": [
    "dfs = create_df_data(project_path)"
   ]
  },
  {
   "cell_type": "code",
   "execution_count": 7,
   "metadata": {},
   "outputs": [],
   "source": [
    "# Save the dataframes\n",
    "dfs[\"playlist_info\"].to_csv('data/playlist_info.csv', index=False)\n",
    "dfs[\"tracks\"].to_csv('data/tracks.csv', index=False)\n",
    "dfs[\"playlist\"].to_csv('data/playlist.csv', index=False)\n"
   ]
  }
 ],
 "metadata": {
  "kernelspec": {
   "display_name": "geopandas_env",
   "language": "python",
   "name": "python3"
  },
  "language_info": {
   "codemirror_mode": {
    "name": "ipython",
    "version": 3
   },
   "file_extension": ".py",
   "mimetype": "text/x-python",
   "name": "python",
   "nbconvert_exporter": "python",
   "pygments_lexer": "ipython3",
   "version": "3.12.0"
  }
 },
 "nbformat": 4,
 "nbformat_minor": 2
}
